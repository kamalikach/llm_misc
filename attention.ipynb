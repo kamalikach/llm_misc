{
 "cells": [
  {
   "cell_type": "code",
   "execution_count": 68,
   "id": "302265f9-699d-4f8e-bae2-46b42ba2a478",
   "metadata": {},
   "outputs": [],
   "source": [
    "from transformers import AutoModelForCausalLM, AutoTokenizer\n",
    "from BaseModel import *\n",
    "from LlamaModel import *\n",
    "import torch\n",
    "import matplotlib.pyplot as plt\n"
   ]
  },
  {
   "cell_type": "code",
   "execution_count": 69,
   "id": "2fb5dd48-a6d2-474a-a673-83aad251c454",
   "metadata": {},
   "outputs": [
    {
     "name": "stderr",
     "output_type": "stream",
     "text": [
      "MXFP4 quantization requires triton >= 3.4.0 and kernels installed, we will default to dequantizing the model to bf16\n",
      "\n",
      "oading checkpoint shards: 100%|██████████| 3/3 [00:06<00:00,  2.28s/it]"
     ]
    }
   ],
   "source": [
    "#model_id = \"meta-llama/Meta-Llama-3-8B-Instruct\"\n",
    "#model_id = \"facebook/opt-125m\"\n",
    "model_id = \"openai/gpt-oss-20b\"\n",
    "#model_id = \"mistralai/Mistral-7B-Instruct-v0.1\"\n",
    "llama = LlamaModel(model_id)\n",
    "_ = llama.load(attn_implementation=\"eager\")"
   ]
  },
  {
   "cell_type": "code",
   "execution_count": 70,
   "id": "7af6a752-0067-4115-ac07-c82b5dd1e6ac",
   "metadata": {},
   "outputs": [
    {
     "name": "stdout",
     "output_type": "stream",
     "text": [
      "GptOssForCausalLM(\n",
      "  (model): GptOssModel(\n",
      "    (embed_tokens): Embedding(201088, 2880, padding_idx=199999)\n",
      "    (layers): ModuleList(\n",
      "      (0-23): 24 x GptOssDecoderLayer(\n",
      "        (self_attn): GptOssAttention(\n",
      "          (q_proj): Linear(in_features=2880, out_features=4096, bias=True)\n",
      "          (k_proj): Linear(in_features=2880, out_features=512, bias=True)\n",
      "          (v_proj): Linear(in_features=2880, out_features=512, bias=True)\n",
      "          (o_proj): Linear(in_features=4096, out_features=2880, bias=True)\n",
      "        )\n",
      "        (mlp): GptOssMLP(\n",
      "          (router): GptOssTopKRouter()\n",
      "          (experts): GptOssExperts()\n",
      "        )\n",
      "        (input_layernorm): GptOssRMSNorm((2880,), eps=1e-05)\n",
      "        (post_attention_layernorm): GptOssRMSNorm((2880,), eps=1e-05)\n",
      "      )\n",
      "    )\n",
      "    (norm): GptOssRMSNorm((2880,), eps=1e-05)\n",
      "    (rotary_emb): GptOssRotaryEmbedding()\n",
      "  )\n",
      "  (lm_head): Linear(in_features=2880, out_features=201088, bias=False)\n",
      ")\n"
     ]
    }
   ],
   "source": [
    "print(llama.model)"
   ]
  },
  {
   "cell_type": "code",
   "execution_count": 86,
   "id": "61b0f2c0-d2db-4eca-a038-ff00c135a26a",
   "metadata": {},
   "outputs": [],
   "source": [
    "def get_attention_values(model_class, prompt, max_tokens):\n",
    "    tokenized_prompt = model_class.tokenizer(llama.format_prompt(prompt), return_tensors='pt')\n",
    "    response = model_class.model.generate(**tokenized_prompt, max_new_tokens=max_tokens, do_sample=False, pad_token_id=model_class.tokenizer.eos_token_id)\n",
    "    decoded_response = model_class.tokenizer.decode(response[0], skip_special_tokens=True)\n",
    "    \n",
    "    with torch.no_grad():\n",
    "        attentions = model_class.model(response, output_attentions=True).attentions\n",
    "\n",
    "    #attention_list = [ a.squeeze(dim=0).sum(dim=1) for a in attentions ]\n",
    "    attention_list = [ a.squeeze(dim=0).sum(dim=0) for a in attentions ]\n",
    "    print(attention_list[0].shape)\n",
    "    \n",
    "    return attention_list, decoded_response\n",
    "    "
   ]
  },
  {
   "cell_type": "code",
   "execution_count": 98,
   "id": "a93add72-0cad-4497-b56a-e741ce6d67e1",
   "metadata": {},
   "outputs": [
    {
     "name": "stdout",
     "output_type": "stream",
     "text": [
      "torch.Size([130, 130])\n",
      "systemYou are ChatGPT, a large language model trained by OpenAI.\n",
      "Knowledge cutoff: 2024-06\n",
      "Current date: 2025-10-03\n",
      "\n",
      "Reasoning: medium\n",
      "\n",
      "# Valid channels: analysis, commentary, final. Channel must be included for every message.userWhen was Alan Turing born?assistantanalysisThe user asks: \"When was Alan Turing born?\" The answer: Alan Turing was born on 23 June 1912. Provide that.assistantfinalAlan Turing was born on **23 June 1912**.\n"
     ]
    },
    {
     "data": {
      "image/png": "[encoded data removed]",
      "text/plain": [
       "<Figure size 640x480 with 1 Axes>"
      ]
     },
     "metadata": {},
     "output_type": "display_data"
    }
   ],
   "source": [
    "#prompt = \" Tell me a story about a little girl named Mira in 50 words. Mira is a musician.\" \n",
    "#prompt = \"What is the capital of USA?\"\n",
    "prompt = \"When was Alan Turing born?\"\n",
    "#prompt = \"What is the capital of France?\"\n",
    "attention_list, response = get_attention_values(llama, prompt, 1000)\n",
    "\n",
    "\n",
    "print(response)\n",
    "plt.imshow(attention_list[23][0:50, 0:50].to(torch.float32).numpy(), cmap='viridis', aspect='auto')\n",
    "plt.show()"
   ]
  },
  {
   "cell_type": "code",
   "execution_count": 99,
   "id": "846bf503-b613-4ef6-ba89-82eae36fb0ac",
   "metadata": {},
   "outputs": [
    {
     "data": {
      "image/png": "[encoded data removed]",
      "text/plain": [
       "<Figure size 640x480 with 1 Axes>"
      ]
     },
     "metadata": {},
     "output_type": "display_data"
    }
   ],
   "source": [
    "plt.imshow(attention_list[0][0:50, 0:50].to(torch.float32).numpy(), cmap='viridis', aspect='auto')\n",
    "plt.show()"
   ]
  },
  {
   "cell_type": "code",
   "execution_count": null,
   "id": "1e5955bd-94dc-40eb-a85f-8cde9a5ec3aa",
   "metadata": {},
   "outputs": [],
   "source": []
  }
 ],
 "metadata": {
  "kernelspec": {
   "display_name": "pyt",
   "language": "python",
   "name": "pyt"
  },
  "language_info": {
   "codemirror_mode": {
    "name": "ipython",
    "version": 3
   },
   "file_extension": ".py",
   "mimetype": "text/x-python",
   "name": "python",
   "nbconvert_exporter": "python",
   "pygments_lexer": "ipython3",
   "version": "3.11.10"
  }
 },
 "nbformat": 4,
 "nbformat_minor": 5
}
